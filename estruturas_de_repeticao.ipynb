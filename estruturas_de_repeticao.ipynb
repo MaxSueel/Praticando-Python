{
 "cells": [
  {
   "cell_type": "code",
   "execution_count": 1,
   "id": "e943c1c3-f43f-4235-b8a4-c6bc762c11ff",
   "metadata": {},
   "outputs": [
    {
     "name": "stdout",
     "output_type": "stream",
     "text": [
      "1\n",
      "2\n",
      "3\n",
      "4\n",
      "5\n"
     ]
    }
   ],
   "source": [
    "# exemplo com while\n",
    "contador = 1        # contador recebe 1\n",
    "while contador <=5: # enquanto contador for menor ou igual a 5 \n",
    "    print(contador) # mostre contador \n",
    "    contador +=1    # contador diminui recebendo 1 número por vez"
   ]
  },
  {
   "cell_type": "code",
   "execution_count": 5,
   "id": "b767d10d-d7ef-4760-9255-178a030f8250",
   "metadata": {},
   "outputs": [
    {
     "name": "stdout",
     "output_type": "stream",
     "text": [
      "1\n",
      "2\n",
      "3\n",
      "4\n",
      "5\n",
      "6\n",
      "7\n",
      "8\n",
      "9\n",
      "10\n",
      " \n",
      "1\n",
      "2\n",
      "3\n",
      "4\n",
      "5\n",
      "6\n",
      "7\n",
      "8\n",
      "9\n",
      "10\n"
     ]
    }
   ],
   "source": [
    "# range(0, 10, 1):\n",
    "# range(inicio, parada, inncremento)\n",
    "# O pythob \"ignora\" o ultimo valor de intervalos\n",
    "# O incremento pode ser negativo\n",
    "\n",
    "#for normal\n",
    "for n in range (0,10): # \n",
    "    print(n+1)\n",
    "\n",
    "print(\" \")\n",
    "\n",
    "for n in range (1,11):\n",
    "    print(n)\n"
   ]
  },
  {
   "cell_type": "code",
   "execution_count": 6,
   "id": "d07cb098-ccf2-42cf-9eb0-c5dee995c621",
   "metadata": {},
   "outputs": [
    {
     "name": "stdout",
     "output_type": "stream",
     "text": [
      "10\n",
      "9\n",
      "8\n",
      "7\n",
      "6\n",
      "5\n",
      "4\n",
      "3\n",
      "2\n",
      "1\n"
     ]
    }
   ],
   "source": [
    "# for decrecente\n",
    "for n in range (10,0,-1):\n",
    "    print(n)"
   ]
  },
  {
   "cell_type": "code",
   "execution_count": 22,
   "id": "9ec2164c-5847-438d-87b3-967aa97c097d",
   "metadata": {},
   "outputs": [
    {
     "name": "stdout",
     "output_type": "stream",
     "text": [
      "0\n",
      "1\n",
      "2\n",
      "3\n",
      "4\n"
     ]
    }
   ],
   "source": [
    "# exemplo com break\n",
    "# vai parar no 3 pois o break está antes do print\n",
    "for w in range(0, 10):\n",
    "    print(w)\n",
    "    if w==4:\n",
    "        break "
   ]
  },
  {
   "cell_type": "code",
   "execution_count": 35,
   "id": "593b5a35-05a6-4fcd-9716-888d610bd3f0",
   "metadata": {},
   "outputs": [
    {
     "name": "stdout",
     "output_type": "stream",
     "text": [
      "0\n",
      "1\n",
      "2\n",
      "3\n",
      "5\n",
      "6\n",
      "7\n",
      "8\n",
      "9\n"
     ]
    }
   ],
   "source": [
    "# exemplo com continue\n",
    "# vai pular o numero 4\n",
    "for n in range (0,10):\n",
    "    if n == 4:\n",
    "        continue\n",
    "    print(n)"
   ]
  },
  {
   "cell_type": "code",
   "execution_count": null,
   "id": "608fdc91-41fc-44d8-87ed-65f731400a90",
   "metadata": {},
   "outputs": [],
   "source": []
  },
  {
   "cell_type": "code",
   "execution_count": null,
   "id": "ebd62e38-3726-43aa-bb07-eb4e33273592",
   "metadata": {},
   "outputs": [],
   "source": []
  }
 ],
 "metadata": {
  "kernelspec": {
   "display_name": "Python [conda env:base] *",
   "language": "python",
   "name": "conda-base-py"
  },
  "language_info": {
   "codemirror_mode": {
    "name": "ipython",
    "version": 3
   },
   "file_extension": ".py",
   "mimetype": "text/x-python",
   "name": "python",
   "nbconvert_exporter": "python",
   "pygments_lexer": "ipython3",
   "version": "3.12.7"
  }
 },
 "nbformat": 4,
 "nbformat_minor": 5
}
