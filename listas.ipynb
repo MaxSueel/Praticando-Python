{
 "cells": [
  {
   "cell_type": "code",
   "execution_count": 1,
   "id": "612c4e7b-3c81-42de-beb4-bce90a08f7b7",
   "metadata": {},
   "outputs": [
    {
     "name": "stdout",
     "output_type": "stream",
     "text": [
      "[1, 2, 3, 4, 5, 6, 7, 8, 9, 10]\n"
     ]
    }
   ],
   "source": [
    "# formas de criar listas\n",
    "lst = [1,2,3,4,5,6,7,8,9,10]\n",
    "print(lst)"
   ]
  },
  {
   "cell_type": "code",
   "execution_count": 2,
   "id": "171483d1-8424-4731-8dfa-ca3daf139f3a",
   "metadata": {},
   "outputs": [
    {
     "name": "stdout",
     "output_type": "stream",
     "text": [
      "[1, 2, 3, '4', True]\n"
     ]
    }
   ],
   "source": [
    "# varios tipos dentro da lista\n",
    "lst2 = [1,2,3, \"4\", True]\n",
    "print(lst2)"
   ]
  },
  {
   "cell_type": "code",
   "execution_count": 3,
   "id": "f2259d3d-8cdf-496d-ba0d-22068d23f3ce",
   "metadata": {},
   "outputs": [
    {
     "name": "stdout",
     "output_type": "stream",
     "text": [
      "[12, [1, 2, 3], 'a']\n"
     ]
    }
   ],
   "source": [
    "# lista com listas\n",
    "lst3 = [12,[1,2,3],\"a\"]\n",
    "print(lst3)"
   ]
  },
  {
   "cell_type": "code",
   "execution_count": 5,
   "id": "1a4ff0e2-e6cf-4c92-b8ac-73c27f2b7cf2",
   "metadata": {},
   "outputs": [
    {
     "name": "stdout",
     "output_type": "stream",
     "text": [
      "[0, 1, 2, 3, 4, 5, 6, 7, 8, 9]\n"
     ]
    }
   ],
   "source": [
    "# criando listas com range\n",
    "lst4 = list(range(0,10))\n",
    "print(lst4)"
   ]
  },
  {
   "cell_type": "code",
   "execution_count": 6,
   "id": "4237dba4-6f51-4dbb-87a6-6f85add71b1a",
   "metadata": {},
   "outputs": [
    {
     "name": "stdout",
     "output_type": "stream",
     "text": [
      "10\n"
     ]
    }
   ],
   "source": [
    "# comprimento da lista\n",
    "print(len(lst))"
   ]
  },
  {
   "cell_type": "code",
   "execution_count": 9,
   "id": "15f1addf-925b-4c7d-a265-1d06d6b87bf2",
   "metadata": {},
   "outputs": [
    {
     "name": "stdout",
     "output_type": "stream",
     "text": [
      "1\n",
      "1\n",
      "[4, 2, 3, 4, 5, 6, 7, 8, 9, 10]\n"
     ]
    }
   ],
   "source": [
    "# acessando elemento \n",
    "print(lst[0])\n",
    "#posição 1 é uma lista\n",
    "print(lst3[1])\n",
    "# alterando posição\n",
    "lst[0] = 4\n",
    "print(lst)"
   ]
  },
  {
   "cell_type": "code",
   "execution_count": 11,
   "id": "537daa39-f12e-4722-8d2d-f044d8a8e5c1",
   "metadata": {},
   "outputs": [
    {
     "name": "stdout",
     "output_type": "stream",
     "text": [
      "1\n",
      "2\n",
      "3\n",
      "4\n",
      "5\n",
      "6\n",
      "7\n",
      "8\n",
      "9\n",
      "10\n"
     ]
    }
   ],
   "source": [
    "# percorrendo lista \n",
    "for n in range (0, len(lst4)):\n",
    "    print(lst4[n]+1)\n",
    "    "
   ]
  },
  {
   "cell_type": "code",
   "execution_count": null,
   "id": "67af2211-9e15-45ff-b6fe-6cf97b451cf9",
   "metadata": {},
   "outputs": [],
   "source": []
  }
 ],
 "metadata": {
  "kernelspec": {
   "display_name": "Python [conda env:base] *",
   "language": "python",
   "name": "conda-base-py"
  },
  "language_info": {
   "codemirror_mode": {
    "name": "ipython",
    "version": 3
   },
   "file_extension": ".py",
   "mimetype": "text/x-python",
   "name": "python",
   "nbconvert_exporter": "python",
   "pygments_lexer": "ipython3",
   "version": "3.12.7"
  }
 },
 "nbformat": 4,
 "nbformat_minor": 5
}
