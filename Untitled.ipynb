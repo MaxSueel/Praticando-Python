{
 "cells": [
  {
   "cell_type": "code",
   "execution_count": 1,
   "id": "f042292f-1f89-468b-bed6-b79c9ec7ea4e",
   "metadata": {},
   "outputs": [
    {
     "name": "stdout",
     "output_type": "stream",
     "text": [
      "Esta é uma função\n"
     ]
    }
   ],
   "source": [
    "# Funções \n",
    "def imprime():\n",
    "    print(\"Esta é uma função\")\n",
    "\n",
    "imprime()"
   ]
  },
  {
   "cell_type": "code",
   "execution_count": 2,
   "id": "c1b8f40a-a219-4d7b-bae5-21a600778e98",
   "metadata": {},
   "outputs": [
    {
     "name": "stdout",
     "output_type": "stream",
     "text": [
      "Impressão desse texto\n"
     ]
    }
   ],
   "source": [
    "# Com parametro\n",
    "def imprime(n):\n",
    "    print(n)\n",
    "\n",
    "imprime(\"Impressão desse texto\")\n"
   ]
  },
  {
   "cell_type": "code",
   "execution_count": 3,
   "id": "759f4c72-e287-4ee4-b8d3-6a98489d359d",
   "metadata": {},
   "outputs": [
    {
     "name": "stdout",
     "output_type": "stream",
     "text": [
      "9\n"
     ]
    }
   ],
   "source": [
    "# Com retorno\n",
    "def potencia(n): # a função vai retonar um parametro \"n\" e vai retornar o valor de \" n*n \" \n",
    "    return(n*n)\n",
    "\n",
    "x = potencia(3) # Temos que atribuir esse retorno em alguma variavél \n",
    "print(x)"
   ]
  },
  {
   "cell_type": "code",
   "execution_count": 5,
   "id": "0bcb3bc1-b7fe-4fe6-acfb-2a15833dec4b",
   "metadata": {},
   "outputs": [
    {
     "name": "stdout",
     "output_type": "stream",
     "text": [
      "1\n",
      "2\n",
      "3\n",
      "4\n",
      "5\n",
      "6\n",
      "7\n",
      "8\n",
      "9\n",
      "10\n",
      " \n",
      "1\n",
      "2\n",
      "3\n",
      "4\n",
      "5\n",
      "6\n",
      "7\n",
      "8\n",
      "9\n",
      "10\n"
     ]
    }
   ],
   "source": [
    "# com valor default\n",
    "def intervalo(inic=1, fim=10):\n",
    "    for inic in range(1, fim+1):\n",
    "        print(inic)\n",
    "\n",
    "x = intervalo(1,10)\n",
    "print(\" \")\n",
    "y = intervalo()"
   ]
  },
  {
   "cell_type": "code",
   "execution_count": null,
   "id": "1f258baa-9145-497f-aab9-e9716867a67d",
   "metadata": {},
   "outputs": [],
   "source": []
  }
 ],
 "metadata": {
  "kernelspec": {
   "display_name": "Python [conda env:base] *",
   "language": "python",
   "name": "conda-base-py"
  },
  "language_info": {
   "codemirror_mode": {
    "name": "ipython",
    "version": 3
   },
   "file_extension": ".py",
   "mimetype": "text/x-python",
   "name": "python",
   "nbconvert_exporter": "python",
   "pygments_lexer": "ipython3",
   "version": "3.12.7"
  }
 },
 "nbformat": 4,
 "nbformat_minor": 5
}
