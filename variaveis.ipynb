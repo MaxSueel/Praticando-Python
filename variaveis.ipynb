{
 "cells": [
  {
   "cell_type": "code",
   "execution_count": 8,
   "id": "e258e761-a3ea-4b08-95ca-56b6f7f45de9",
   "metadata": {},
   "outputs": [
    {
     "name": "stdout",
     "output_type": "stream",
     "text": [
      "1\n",
      "3.3\n",
      "Max\n",
      "False\n",
      "True\n"
     ]
    }
   ],
   "source": [
    "# Criar variável do tipo inteiro\n",
    "x = 1\n",
    "print(x)\n",
    "# Criar variável tipo float\n",
    "y = 3.3\n",
    "print(y)\n",
    "# Criar variável tipo string\n",
    "m = \"Max\"\n",
    "m = 'Max'\n",
    "print(m)\n",
    "# Criar uma variável tipo lógico\n",
    "w = True\n",
    "p = False\n",
    "print(p)\n",
    "print(w)"
   ]
  },
  {
   "cell_type": "code",
   "execution_count": 9,
   "id": "533fc6a7-6792-401f-a6d8-3ba8853663fa",
   "metadata": {},
   "outputs": [
    {
     "name": "stdout",
     "output_type": "stream",
     "text": [
      "30.0\n"
     ]
    }
   ],
   "source": [
    "# Calculadora\n",
    "x = 10\n",
    "y = 20\n",
    "z = 100\n",
    "w = (x +y) * z / 100\n",
    "print(w)"
   ]
  },
  {
   "cell_type": "code",
   "execution_count": 10,
   "id": "53bd51b6-6c69-41eb-99f3-666c39cea273",
   "metadata": {},
   "outputs": [
    {
     "name": "stdout",
     "output_type": "stream",
     "text": [
      "Este texto será impresso no console\n",
      "10\n",
      "Texto e duas variáveis:  10 ,  100\n"
     ]
    }
   ],
   "source": [
    "# Exibir texto no console\n",
    "print(\"Este texto será impresso no console\")\n",
    "print(x)\n",
    "print(\"Texto e duas variáveis: \", x ,\", \", z)"
   ]
  },
  {
   "cell_type": "code",
   "execution_count": 11,
   "id": "0ebe79a0-2e95-43c5-ba74-ed33195e926a",
   "metadata": {},
   "outputs": [
    {
     "name": "stdout",
     "output_type": "stream",
     "text": [
      "<class 'int'>\n",
      "<class 'str'>\n"
     ]
    }
   ],
   "source": [
    "# Verificaar tipo\n",
    "print(type(x))\n",
    "print(type(m))"
   ]
  },
  {
   "cell_type": "code",
   "execution_count": 13,
   "id": "760e0e51-ef5c-4ac1-907a-f187592b0bd7",
   "metadata": {},
   "outputs": [
    {
     "name": "stdout",
     "output_type": "stream",
     "text": [
      "Informe o valor: \n"
     ]
    },
    {
     "name": "stdin",
     "output_type": "stream",
     "text": [
      " 5\n"
     ]
    },
    {
     "name": "stdout",
     "output_type": "stream",
     "text": [
      "5\n",
      "<class 'str'>\n"
     ]
    }
   ],
   "source": [
    "# Entrada de dados\n",
    "print(\"Informe o valor: \")\n",
    "i = input()\n",
    "print(i)\n",
    "print(type(i))"
   ]
  },
  {
   "cell_type": "code",
   "execution_count": 14,
   "id": "04e7cdc6-ad23-425b-a17f-a81d97690c77",
   "metadata": {},
   "outputs": [
    {
     "name": "stdout",
     "output_type": "stream",
     "text": [
      "Informe o valor: \n"
     ]
    },
    {
     "name": "stdin",
     "output_type": "stream",
     "text": [
      " 5\n",
      "Informe o valor  5\n"
     ]
    }
   ],
   "source": [
    "# Entrada de valor com mensagem separada e junto\n",
    "print(\"Informe o valor: \")\n",
    "i = input()\n",
    "# ou \n",
    "i = input(\"Informe o valor \")"
   ]
  },
  {
   "cell_type": "code",
   "execution_count": 15,
   "id": "9bfc1109-a30a-4583-b569-f3b0845cdef1",
   "metadata": {},
   "outputs": [
    {
     "name": "stdin",
     "output_type": "stream",
     "text": [
      "Informe o valor  5\n"
     ]
    },
    {
     "name": "stdout",
     "output_type": "stream",
     "text": [
      "<class 'str'>\n",
      "<class 'int'>\n"
     ]
    }
   ],
   "source": [
    "# Conversão de valores\n",
    "# para inteirto\n",
    "var = input(\"Informe o valor \")\n",
    "print(type(var))\n",
    "var = int(var)\n",
    "print(type(var))"
   ]
  },
  {
   "cell_type": "code",
   "execution_count": 16,
   "id": "64856e7a-fa8a-4a57-94af-f06e99989ea4",
   "metadata": {},
   "outputs": [
    {
     "name": "stdin",
     "output_type": "stream",
     "text": [
      "Digite o valor:  2.2\n"
     ]
    },
    {
     "name": "stdout",
     "output_type": "stream",
     "text": [
      "<class 'str'>\n",
      "<class 'float'>\n"
     ]
    }
   ],
   "source": [
    "# Para float\n",
    "var = input(\"Digite o valor: \")\n",
    "print(type(var))\n",
    "var = float(var)\n",
    "print(type(var))"
   ]
  },
  {
   "cell_type": "code",
   "execution_count": null,
   "id": "7e54737c-b288-42f2-aee1-cc237b7e033a",
   "metadata": {},
   "outputs": [],
   "source": []
  }
 ],
 "metadata": {
  "kernelspec": {
   "display_name": "Python [conda env:base] *",
   "language": "python",
   "name": "conda-base-py"
  },
  "language_info": {
   "codemirror_mode": {
    "name": "ipython",
    "version": 3
   },
   "file_extension": ".py",
   "mimetype": "text/x-python",
   "name": "python",
   "nbconvert_exporter": "python",
   "pygments_lexer": "ipython3",
   "version": "3.12.7"
  }
 },
 "nbformat": 4,
 "nbformat_minor": 5
}
