{
 "cells": [
  {
   "cell_type": "code",
   "execution_count": 1,
   "id": "1d86b4c7-b97b-4af4-a6f3-fd28c2d14a84",
   "metadata": {},
   "outputs": [
    {
     "name": "stdout",
     "output_type": "stream",
     "text": [
      "25\n",
      "25.0\n"
     ]
    }
   ],
   "source": [
    "# Modulos e Pacotes: importanto o pacote estatisticas e suas funções\n",
    "import statistics \n",
    "z = [10,20,30,40]\n",
    "x = statistics.mean(z)\n",
    "y = statistics.median(z)\n",
    "print(x)\n",
    "print(y)"
   ]
  },
  {
   "cell_type": "code",
   "execution_count": 2,
   "id": "59843284-eb6a-4e5f-837a-75253b4f1855",
   "metadata": {},
   "outputs": [
    {
     "name": "stdout",
     "output_type": "stream",
     "text": [
      "25\n",
      "25.0\n"
     ]
    }
   ],
   "source": [
    "# Importando pacote estatisticas e abreviando para \"est\"\n",
    "import statistics as est\n",
    "z = [10,20,30,40]\n",
    "x = est.mean(z)\n",
    "y = est.median(z)\n",
    "print(x)\n",
    "print(y)"
   ]
  },
  {
   "cell_type": "code",
   "execution_count": 3,
   "id": "1d7829eb-ebab-4be8-a97a-f9f54e26437c",
   "metadata": {},
   "outputs": [
    {
     "name": "stdout",
     "output_type": "stream",
     "text": [
      "25\n",
      "25.0\n"
     ]
    }
   ],
   "source": [
    "# Importando o modulos estatistiscas e especificando as funções que irar usar\n",
    "from statistics import mean, median\n",
    "z = [10,20,30,40]\n",
    "x = mean(z)\n",
    "y = median(z)\n",
    "print(x)\n",
    "print(y)\n",
    "\n",
    "\n"
   ]
  },
  {
   "cell_type": "code",
   "execution_count": 5,
   "id": "9f997554-1062-424d-97e1-d791282cf4c1",
   "metadata": {},
   "outputs": [
    {
     "name": "stdout",
     "output_type": "stream",
     "text": [
      "25\n",
      "25.0\n"
     ]
    }
   ],
   "source": [
    "# Importando todas as funções de estatistiscas com \" * \"\n",
    "from statistics import *\n",
    "z = [10,20,30,40]\n",
    "x = mean(z)\n",
    "y = median(z)\n",
    "print(x)\n",
    "print(y)"
   ]
  },
  {
   "cell_type": "code",
   "execution_count": null,
   "id": "02061a21-8cb9-469c-9b04-947b4b76ded5",
   "metadata": {},
   "outputs": [],
   "source": []
  }
 ],
 "metadata": {
  "kernelspec": {
   "display_name": "Python [conda env:base] *",
   "language": "python",
   "name": "conda-base-py"
  },
  "language_info": {
   "codemirror_mode": {
    "name": "ipython",
    "version": 3
   },
   "file_extension": ".py",
   "mimetype": "text/x-python",
   "name": "python",
   "nbconvert_exporter": "python",
   "pygments_lexer": "ipython3",
   "version": "3.12.7"
  }
 },
 "nbformat": 4,
 "nbformat_minor": 5
}
