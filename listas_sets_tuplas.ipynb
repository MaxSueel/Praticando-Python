{
 "cells": [
  {
   "cell_type": "code",
   "execution_count": null,
   "id": "58431249-77ca-4bd8-8028-166a1c8f698a",
   "metadata": {},
   "outputs": [],
   "source": []
  },
  {
   "cell_type": "code",
   "execution_count": 1,
   "id": "a9e76a27-6ecb-4f9f-8550-d03d3da8ca95",
   "metadata": {},
   "outputs": [
    {
     "name": "stdout",
     "output_type": "stream",
     "text": [
      "{'João': 6.0, 'Maria': 8.0, 'Pedro': 6.5}\n"
     ]
    }
   ],
   "source": [
    "# dicionario: estrutura chave/valor\n",
    "notas = {'João': 6.0, 'Maria': 8.0, 'Pedro': 6.5}\n",
    "print(notas)"
   ]
  },
  {
   "cell_type": "code",
   "execution_count": 3,
   "id": "143359cf-572c-4df7-8653-3ac84eec5050",
   "metadata": {},
   "outputs": [
    {
     "name": "stdout",
     "output_type": "stream",
     "text": [
      "6.0\n"
     ]
    }
   ],
   "source": [
    "# chamando apenas um objeto\n",
    "print(notas['João'])"
   ]
  },
  {
   "cell_type": "code",
   "execution_count": 4,
   "id": "7c603e2e-c58d-45bf-8e2c-659784926149",
   "metadata": {},
   "outputs": [
    {
     "data": {
      "text/plain": [
       "dict_keys(['João', 'Maria', 'Pedro'])"
      ]
     },
     "execution_count": 4,
     "metadata": {},
     "output_type": "execute_result"
    }
   ],
   "source": [
    "# todas as chaves\n",
    "notas.keys()"
   ]
  },
  {
   "cell_type": "code",
   "execution_count": 5,
   "id": "808ddf04-0ca0-4c3c-b77e-55cd935f7f43",
   "metadata": {},
   "outputs": [
    {
     "data": {
      "text/plain": [
       "dict_values([6.0, 8.0, 6.5])"
      ]
     },
     "execution_count": 5,
     "metadata": {},
     "output_type": "execute_result"
    }
   ],
   "source": [
    "# Todas os valores\n",
    "notas.values()"
   ]
  },
  {
   "cell_type": "code",
   "execution_count": 7,
   "id": "b90eac96-2bd7-48f1-b333-ac25af6b847e",
   "metadata": {},
   "outputs": [
    {
     "name": "stdout",
     "output_type": "stream",
     "text": [
      "True\n",
      "False\n"
     ]
    }
   ],
   "source": [
    "# Testando logicamente a existencia\n",
    "print('João' in notas)\n",
    "print('Fernando' in notas)"
   ]
  },
  {
   "cell_type": "code",
   "execution_count": 8,
   "id": "6af1b546-1820-4fa6-9083-0cd46337ebe5",
   "metadata": {},
   "outputs": [
    {
     "name": "stdout",
     "output_type": "stream",
     "text": [
      "{'Maria': 8.0, 'Pedro': 6.5}\n"
     ]
    }
   ],
   "source": [
    "# apaga um elemento\n",
    "del notas['João']\n",
    "print(notas)"
   ]
  },
  {
   "cell_type": "code",
   "execution_count": 10,
   "id": "4bf2d3fb-0d66-4fa3-a63d-64c39b524345",
   "metadata": {},
   "outputs": [
    {
     "name": "stdout",
     "output_type": "stream",
     "text": [
      "{'Maria': 8.0, 'Pedro': 6.5, 'Ana': 9}\n"
     ]
    }
   ],
   "source": [
    "# adicionando um elemento\n",
    "notas ['Ana'] = 9\n",
    "print(notas)"
   ]
  },
  {
   "cell_type": "code",
   "execution_count": 11,
   "id": "075f903b-6f5d-46cd-a520-6774809e0292",
   "metadata": {},
   "outputs": [
    {
     "data": {
      "text/plain": [
       "'Não encontrado'"
      ]
     },
     "execution_count": 11,
     "metadata": {},
     "output_type": "execute_result"
    }
   ],
   "source": [
    "# busca um valor, se não encontrado mostra o segundo parametro\n",
    "notas.get('Geraldo', \"Não encontrado\")"
   ]
  },
  {
   "cell_type": "code",
   "execution_count": 12,
   "id": "72b4bf6e-9407-48fa-b8e4-d32fb6834ac1",
   "metadata": {},
   "outputs": [
    {
     "name": "stdout",
     "output_type": "stream",
     "text": [
      "{'Hive', 'Sqoop', 'Spark'}\n"
     ]
    }
   ],
   "source": [
    "# sets são conjuntos não ordenados de elementos não reoetidos\n",
    "bigdata = {'Spark', 'Hive', \"Sqoop\"}\n",
    "print(bigdata)"
   ]
  },
  {
   "cell_type": "code",
   "execution_count": 13,
   "id": "c27ed4b3-4a08-49f7-9788-01ca3684202c",
   "metadata": {},
   "outputs": [
    {
     "name": "stdout",
     "output_type": "stream",
     "text": [
      "True\n"
     ]
    }
   ],
   "source": [
    "# verificar a existencia\n",
    "print('Spark' in bigdata)\n"
   ]
  },
  {
   "cell_type": "code",
   "execution_count": 14,
   "id": "cb0c6fdd-5f59-404c-8239-514edf1e8df1",
   "metadata": {},
   "outputs": [
    {
     "data": {
      "text/plain": [
       "{'Hadoop', 'Hive', 'Spark', 'Sqoop'}"
      ]
     },
     "execution_count": 14,
     "metadata": {},
     "output_type": "execute_result"
    }
   ],
   "source": [
    "# adicionar elemento\n",
    "bigdata.add('Hadoop')\n",
    "bigdata"
   ]
  },
  {
   "cell_type": "code",
   "execution_count": 15,
   "id": "0c644374-5611-41e2-a257-6d053b3c2428",
   "metadata": {},
   "outputs": [
    {
     "name": "stdout",
     "output_type": "stream",
     "text": [
      "4\n"
     ]
    }
   ],
   "source": [
    "# numeros de elementos\n",
    "print(len(bigdata))"
   ]
  },
  {
   "cell_type": "code",
   "execution_count": 16,
   "id": "d4326c7a-a161-412b-881a-cb494375865f",
   "metadata": {},
   "outputs": [
    {
     "data": {
      "text/plain": [
       "(1, 2, 3, 4, 5, 6, 7)"
      ]
     },
     "execution_count": 16,
     "metadata": {},
     "output_type": "execute_result"
    }
   ],
   "source": [
    "# tuplas são listas que não podem ser alteradas\n",
    "# listas usam [], tuplas usam ()\n",
    "tupla = (1,2,3,4,5,6,7)\n",
    "tupla"
   ]
  },
  {
   "cell_type": "code",
   "execution_count": 19,
   "id": "5b2c2283-cd95-4838-bde8-e29a1d144990",
   "metadata": {},
   "outputs": [
    {
     "data": {
      "text/plain": [
       "{(0, 1): 0,\n",
       " (1, 2): 1,\n",
       " (2, 3): 2,\n",
       " (3, 4): 3,\n",
       " (4, 5): 4,\n",
       " (5, 6): 5,\n",
       " (6, 7): 6,\n",
       " (7, 8): 7,\n",
       " (8, 9): 8,\n",
       " (9, 10): 9}"
      ]
     },
     "execution_count": 19,
     "metadata": {},
     "output_type": "execute_result"
    }
   ],
   "source": [
    "#dicionarios em que cada posição recebe uma tupla\n",
    "dic2 = {(0, 1): 0, (1,2): 1, (2,3): 2, (3,4): 3, (4,5): 4, (5,6): 5, (6,7): 6, (7,8): 7, (8,9): 8, (9,10): 9} \n",
    "dic2"
   ]
  },
  {
   "cell_type": "code",
   "execution_count": 20,
   "id": "9c777c19-669e-4ac1-80b5-4d4346194792",
   "metadata": {},
   "outputs": [
    {
     "name": "stdout",
     "output_type": "stream",
     "text": [
      "<class 'dict'>\n",
      "<class 'set'>\n",
      "<class 'tuple'>\n"
     ]
    }
   ],
   "source": [
    "print(type(notas))\n",
    "print(type(bigdata))\n",
    "print(type(tupla))"
   ]
  },
  {
   "cell_type": "code",
   "execution_count": null,
   "id": "51151e03-262c-4db8-82b8-4a6574b012fc",
   "metadata": {},
   "outputs": [],
   "source": []
  }
 ],
 "metadata": {
  "kernelspec": {
   "display_name": "Python [conda env:base] *",
   "language": "python",
   "name": "conda-base-py"
  },
  "language_info": {
   "codemirror_mode": {
    "name": "ipython",
    "version": 3
   },
   "file_extension": ".py",
   "mimetype": "text/x-python",
   "name": "python",
   "nbconvert_exporter": "python",
   "pygments_lexer": "ipython3",
   "version": "3.12.7"
  }
 },
 "nbformat": 4,
 "nbformat_minor": 5
}
