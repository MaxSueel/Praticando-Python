{
 "cells": [
  {
   "cell_type": "code",
   "execution_count": 1,
   "id": "abf4d40b-516c-40b8-8154-c1be9c304cf5",
   "metadata": {},
   "outputs": [],
   "source": [
    "# numpy\n",
    "import numpy as np"
   ]
  },
  {
   "cell_type": "code",
   "execution_count": 3,
   "id": "6716726f-1f64-4285-9b6c-940f0088d186",
   "metadata": {},
   "outputs": [
    {
     "name": "stdout",
     "output_type": "stream",
     "text": [
      "[12 34 26 18 10]\n",
      "<class 'numpy.ndarray'>\n"
     ]
    }
   ],
   "source": [
    "# Cria uma matriz unidimensional\n",
    "mt = np.array([12,34,26,18,10])\n",
    "print(mt)\n",
    "print(type(mt))"
   ]
  },
  {
   "cell_type": "code",
   "execution_count": 9,
   "id": "690f2df9-cc90-4207-953a-499764f3dd35",
   "metadata": {},
   "outputs": [
    {
     "name": "stdout",
     "output_type": "stream",
     "text": [
      "[1. 2. 3.]\n",
      "[1 2 3]\n",
      "<class 'numpy.ndarray'>\n"
     ]
    }
   ],
   "source": [
    "# Criar array com um tipo especifico\n",
    "# cria o array como float de 64 bits\n",
    "mtfloat = np.array([1,2,3], dtype = np.float64)\n",
    "print(mtfloat)\n",
    "mtint = np.array([1,2,3], dtype = np.int32)\n",
    "print(mtint)\n",
    "print(type(mtint))"
   ]
  },
  {
   "cell_type": "code",
   "execution_count": 11,
   "id": "52c9d708-faee-4a25-bbab-093240cd940e",
   "metadata": {},
   "outputs": [
    {
     "name": "stdout",
     "output_type": "stream",
     "text": [
      "[ 1.4       3.6      -5.1       9.       42.        4.999999]\n",
      "[ 1  3 -5  9 42  4]\n"
     ]
    }
   ],
   "source": [
    "# mudar o tipo do array\n",
    "# Podemos transformar tipos de dados de arrays\n",
    "mtnew = np.array([1.4, 3.6, -5.1, 9,42, 4.999999])\n",
    "print(mtnew)\n",
    "# quando transformamos de float para int os valores são truncados\n",
    "mtnewint = mtnew.astype(np.int32)\n",
    "print(mtnewint)"
   ]
  },
  {
   "cell_type": "code",
   "execution_count": 13,
   "id": "b163d149-1375-43ce-9933-6921bb6d3584",
   "metadata": {},
   "outputs": [
    {
     "name": "stdout",
     "output_type": "stream",
     "text": [
      "[1 2 3 4]\n",
      "[1. 2. 3. 4.]\n"
     ]
    }
   ],
   "source": [
    "# podemos fazer o inverso tambem\n",
    "mt5 = np.array([1,2,3,4])\n",
    "print(mt5)\n",
    "mt6 = mt5.astype(float)\n",
    "print(mt6)"
   ]
  },
  {
   "cell_type": "code",
   "execution_count": 14,
   "id": "f392f5cf-7421-41c9-a4c9-228f36d96e2c",
   "metadata": {},
   "outputs": [
    {
     "name": "stdout",
     "output_type": "stream",
     "text": [
      "[[ 7  2 23]\n",
      " [12 27  4]\n",
      " [ 5 34 23]]\n"
     ]
    }
   ],
   "source": [
    "# mais de uma dimensão\n",
    "# cria uma matriz bidimensional\n",
    "mt7 = np.array([[7,2,23], [12,27,4],[5,34,23]])\n",
    "print(mt7)"
   ]
  },
  {
   "cell_type": "code",
   "execution_count": 15,
   "id": "be846236-0456-43c8-bdf6-f17453c6bef6",
   "metadata": {},
   "outputs": [
    {
     "name": "stdout",
     "output_type": "stream",
     "text": [
      "[[ 7  2 23]\n",
      " [12 27  4]\n",
      " [ 5 34 23]]\n"
     ]
    }
   ],
   "source": [
    "# mais de uma dimensão\n",
    "# cria um matriz bidimensional\n",
    "mt7 = np.array([[7,2,23],[12,27,4],[5,34,23]])\n",
    "print(mt7)"
   ]
  },
  {
   "cell_type": "code",
   "execution_count": 23,
   "id": "0c0e5785-a1ab-40c7-b6fa-8d38ef648c2f",
   "metadata": {},
   "outputs": [
    {
     "name": "stdout",
     "output_type": "stream",
     "text": [
      "[[ -305020864         377]\n",
      " [          0           0]\n",
      " [          1 -2147483648]]\n",
      "------\n",
      "[[0. 0. 0.]\n",
      " [0. 0. 0.]\n",
      " [0. 0. 0.]\n",
      " [0. 0. 0.]]\n",
      "-----------\n",
      "[[1. 1. 1. 1. 1. 1. 1.]\n",
      " [1. 1. 1. 1. 1. 1. 1.]\n",
      " [1. 1. 1. 1. 1. 1. 1.]\n",
      " [1. 1. 1. 1. 1. 1. 1.]\n",
      " [1. 1. 1. 1. 1. 1. 1.]]\n",
      "[[1. 0. 0. 0. 0.]\n",
      " [0. 1. 0. 0. 0.]\n",
      " [0. 0. 1. 0. 0.]\n",
      " [0. 0. 0. 1. 0.]\n",
      " [0. 0. 0. 0. 1.]]\n"
     ]
    }
   ],
   "source": [
    "# arrays vazios tipificados\n",
    "# empty siginifica que não são inicializados, não que são vazios\n",
    "vazio = np.empty([3,2],dtype = int)\n",
    "print(vazio)\n",
    "print(\"------\")\n",
    "# cria matriz com os valores 4x3 com valores zeros\n",
    "zeros = np.zeros([4,3])\n",
    "print(zeros)\n",
    "print(\"-----------\")\n",
    "# com valores igual a um \n",
    "um = np.ones([5,7])\n",
    "print(um)\n",
    "# cria matriz quadrada com diagonal principal 1 e os outros zero\n",
    "diagoal = np.eye(5)\n",
    "print(diagoal)"
   ]
  },
  {
   "cell_type": "code",
   "execution_count": 4,
   "id": "c5953d06-40d8-45d3-9fc7-b29b34597eb2",
   "metadata": {},
   "outputs": [
    {
     "ename": "NameError",
     "evalue": "name 'np' is not defined",
     "output_type": "error",
     "traceback": [
      "\u001b[1;31m---------------------------------------------------------------------------\u001b[0m",
      "\u001b[1;31mNameError\u001b[0m                                 Traceback (most recent call last)",
      "Cell \u001b[1;32mIn[4], line 2\u001b[0m\n\u001b[0;32m      1\u001b[0m \u001b[38;5;66;03m# valores aliatorios entre zero e um\u001b[39;00m\n\u001b[1;32m----> 2\u001b[0m ale \u001b[38;5;241m=\u001b[39m np\u001b[38;5;241m.\u001b[39mrandom\u001b[38;5;241m.\u001b[39mrandom((\u001b[38;5;241m5\u001b[39m))\n\u001b[0;32m      3\u001b[0m \u001b[38;5;28mprint\u001b[39m(ale)\n\u001b[0;32m      4\u001b[0m \u001b[38;5;28mprint\u001b[39m(\u001b[38;5;124m\"\u001b[39m\u001b[38;5;124m-----------------\u001b[39m\u001b[38;5;124m\"\u001b[39m)\n",
      "\u001b[1;31mNameError\u001b[0m: name 'np' is not defined"
     ]
    }
   ],
   "source": [
    "# valores aliatorios entre zero e um\n",
    "ale = np.random.random((5))\n",
    "print(ale)\n",
    "print(\"-----------------\")\n",
    "# valores aleatorios distr. normal contendo negativos\n",
    "ale2 = np.random.randn((5))\n",
    "print(ale2)\n",
    "print(\"-------------------\")\n",
    "# valores aleatorios 3x4\n",
    "ale3 = (10*np.random.random((3,4)))\n",
    "print(ale3)"
   ]
  },
  {
   "cell_type": "code",
   "execution_count": null,
   "id": "b233f92e-70f1-4751-a422-2b67f93d4672",
   "metadata": {},
   "outputs": [],
   "source": []
  },
  {
   "cell_type": "code",
   "execution_count": null,
   "id": "21c2f6e7-44ab-456e-9b1e-ad5dcca7408c",
   "metadata": {},
   "outputs": [],
   "source": []
  }
 ],
 "metadata": {
  "kernelspec": {
   "display_name": "Python [conda env:base] *",
   "language": "python",
   "name": "conda-base-py"
  },
  "language_info": {
   "codemirror_mode": {
    "name": "ipython",
    "version": 3
   },
   "file_extension": ".py",
   "mimetype": "text/x-python",
   "name": "python",
   "nbconvert_exporter": "python",
   "pygments_lexer": "ipython3",
   "version": "3.12.7"
  }
 },
 "nbformat": 4,
 "nbformat_minor": 5
}
